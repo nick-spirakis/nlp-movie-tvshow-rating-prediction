{
 "cells": [
  {
   "cell_type": "markdown",
   "metadata": {},
   "source": [
    "## NLP FINAL PROJECT\n",
    "### NICK SPIRAKIS"
   ]
  },
  {
   "cell_type": "markdown",
   "metadata": {},
   "source": [
    "Use what you have learned in this class to develop an application that uses natural language processing. Your project can use any of the concepts that you’ve learned in this course, including n-grams, part-of-speech tagging, text classification, grammars, vector semantics, neural language models, and information extraction. \n",
    "The requirements are intentionally vague to allow you to create an application that interests you. If you are stuck for an idea, look at the starred exercises in the NLTK Book for inspiration.\n",
    "\n",
    "Requirements for this assignment: \n",
    "Develop an application that use natural language processing. The application must:\n",
    "\n",
    "use an NLP concept discussed in this course: \n",
    "be developed using python\n",
    "perform an interesting task\n",
    "be substantial, including at least 50 lines of code\n",
    "have well formatted and organized code\n",
    "\n",
    "Your project must also include a summary of application's purpose, functionality and challenges encountered while working on the project."
   ]
  },
  {
   "cell_type": "code",
   "execution_count": 88,
   "metadata": {},
   "outputs": [],
   "source": [
    "# corpus\n",
    "# https://www.kaggle.com/datasets/shivamb/netflix-shows?resource=download\n",
    "\n",
    "#get corpora\n",
    "import pandas as pd\n",
    "netflixData = pd.read_csv('Data/netflix_titles.csv')"
   ]
  },
  {
   "cell_type": "markdown",
   "metadata": {},
   "source": [
    "## Summary\n",
    "\n",
    "The main focus was making naive bayes classifiers, but I did test with MultinomialNB as well.\n",
    "MultinomialNB recieved 38% on the test set, comapred to the 42%-45% that my NB classifier has.\n",
    "I am using the Netflix Corpus, found here https://www.kaggle.com/datasets/shivamb/netflix-shows?resource=download\n",
    "### Purpose: \n",
    "#### predict rating given a title, predict if it is a show or movie based on description, predict rating given a description\n",
    "This was done by trying to find helpful features for each category.\n",
    "I thought this project was a good idea beacause I think it could be a helpful tool.\n",
    "For example, if you are making a movie or movie description, you can use the program to see what your movie will most likely be rated.\n",
    "Depending on your target audience, you may want to change the movie or the description.\n",
    "\n",
    "### functionality:\n",
    "##### rating given a description - around 43%. \n",
    "##### rating given a title - around 39%. \n",
    "##### show or movie given description - around 57%.\n",
    "These are from NB classifiers made from my features. \n",
    "To help improve them, I check if the results were correct, see why not and try to find features to add to my functions.\n",
    "I also use the show_most_informative_features function for the same reason.\n",
    "\n",
    "### challenges: picking features for classifiers\n",
    "##### the hardest part is creating features for prediction, trying to see which ones were helpful, and which were hurtful."
   ]
  },
  {
   "cell_type": "code",
   "execution_count": 89,
   "metadata": {},
   "outputs": [],
   "source": [
    "df_combine_rating_des = pd.DataFrame({'title':netflixData.title, 'rating':netflixData.rating, 'type':netflixData.type}) #'description':netflixData.description}"
   ]
  },
  {
   "cell_type": "code",
   "execution_count": 90,
   "metadata": {},
   "outputs": [
    {
     "data": {
      "text/html": [
       "<div>\n",
       "<style scoped>\n",
       "    .dataframe tbody tr th:only-of-type {\n",
       "        vertical-align: middle;\n",
       "    }\n",
       "\n",
       "    .dataframe tbody tr th {\n",
       "        vertical-align: top;\n",
       "    }\n",
       "\n",
       "    .dataframe thead th {\n",
       "        text-align: right;\n",
       "    }\n",
       "</style>\n",
       "<table border=\"1\" class=\"dataframe\">\n",
       "  <thead>\n",
       "    <tr style=\"text-align: right;\">\n",
       "      <th></th>\n",
       "      <th>title</th>\n",
       "      <th>rating</th>\n",
       "      <th>type</th>\n",
       "    </tr>\n",
       "  </thead>\n",
       "  <tbody>\n",
       "    <tr>\n",
       "      <th>0</th>\n",
       "      <td>Dick Johnson Is Dead</td>\n",
       "      <td>PG-13</td>\n",
       "      <td>Movie</td>\n",
       "    </tr>\n",
       "    <tr>\n",
       "      <th>1</th>\n",
       "      <td>Blood &amp; Water</td>\n",
       "      <td>TV-MA</td>\n",
       "      <td>TV Show</td>\n",
       "    </tr>\n",
       "    <tr>\n",
       "      <th>2</th>\n",
       "      <td>Ganglands</td>\n",
       "      <td>TV-MA</td>\n",
       "      <td>TV Show</td>\n",
       "    </tr>\n",
       "    <tr>\n",
       "      <th>3</th>\n",
       "      <td>Jailbirds New Orleans</td>\n",
       "      <td>TV-MA</td>\n",
       "      <td>TV Show</td>\n",
       "    </tr>\n",
       "    <tr>\n",
       "      <th>4</th>\n",
       "      <td>Kota Factory</td>\n",
       "      <td>TV-MA</td>\n",
       "      <td>TV Show</td>\n",
       "    </tr>\n",
       "    <tr>\n",
       "      <th>...</th>\n",
       "      <td>...</td>\n",
       "      <td>...</td>\n",
       "      <td>...</td>\n",
       "    </tr>\n",
       "    <tr>\n",
       "      <th>8802</th>\n",
       "      <td>Zodiac</td>\n",
       "      <td>R</td>\n",
       "      <td>Movie</td>\n",
       "    </tr>\n",
       "    <tr>\n",
       "      <th>8803</th>\n",
       "      <td>Zombie Dumb</td>\n",
       "      <td>TV-Y7</td>\n",
       "      <td>TV Show</td>\n",
       "    </tr>\n",
       "    <tr>\n",
       "      <th>8804</th>\n",
       "      <td>Zombieland</td>\n",
       "      <td>R</td>\n",
       "      <td>Movie</td>\n",
       "    </tr>\n",
       "    <tr>\n",
       "      <th>8805</th>\n",
       "      <td>Zoom</td>\n",
       "      <td>PG</td>\n",
       "      <td>Movie</td>\n",
       "    </tr>\n",
       "    <tr>\n",
       "      <th>8806</th>\n",
       "      <td>Zubaan</td>\n",
       "      <td>TV-14</td>\n",
       "      <td>Movie</td>\n",
       "    </tr>\n",
       "  </tbody>\n",
       "</table>\n",
       "<p>8807 rows × 3 columns</p>\n",
       "</div>"
      ],
      "text/plain": [
       "                      title rating     type\n",
       "0      Dick Johnson Is Dead  PG-13    Movie\n",
       "1             Blood & Water  TV-MA  TV Show\n",
       "2                 Ganglands  TV-MA  TV Show\n",
       "3     Jailbirds New Orleans  TV-MA  TV Show\n",
       "4              Kota Factory  TV-MA  TV Show\n",
       "...                     ...    ...      ...\n",
       "8802                 Zodiac      R    Movie\n",
       "8803            Zombie Dumb  TV-Y7  TV Show\n",
       "8804             Zombieland      R    Movie\n",
       "8805                   Zoom     PG    Movie\n",
       "8806                 Zubaan  TV-14    Movie\n",
       "\n",
       "[8807 rows x 3 columns]"
      ]
     },
     "metadata": {},
     "output_type": "display_data"
    }
   ],
   "source": [
    "with pd.option_context('display.max_colwidth', None):\n",
    "  display(df_combine_rating_des)"
   ]
  },
  {
   "cell_type": "code",
   "execution_count": 91,
   "metadata": {},
   "outputs": [
    {
     "name": "stdout",
     "output_type": "stream",
     "text": [
      "['Dick Johnson Is Dead' 'PG-13' 'Movie']\n"
     ]
    }
   ],
   "source": [
    "#make df into list\n",
    "df_list = list(df_combine_rating_des.values)\n",
    "\n",
    "print(df_list[0])"
   ]
  },
  {
   "cell_type": "code",
   "execution_count": 92,
   "metadata": {},
   "outputs": [
    {
     "name": "stdout",
     "output_type": "stream",
     "text": [
      "8807\n"
     ]
    }
   ],
   "source": [
    "print(len(df_list))"
   ]
  },
  {
   "cell_type": "code",
   "execution_count": 93,
   "metadata": {},
   "outputs": [],
   "source": [
    "import nltk"
   ]
  },
  {
   "cell_type": "code",
   "execution_count": 94,
   "metadata": {},
   "outputs": [
    {
     "data": {
      "text/plain": [
       "1                Blood & Water is rated TV-MA\n",
       "2                    Ganglands is rated TV-MA\n",
       "3        Jailbirds New Orleans is rated TV-MA\n",
       "4                 Kota Factory is rated TV-MA\n",
       "5                Midnight Mass is rated TV-MA\n",
       "                        ...                  \n",
       "8762           Wrong Side Raju is rated TV-MA\n",
       "8769    Y.M.I.: Yeh Mera India is rated TV-MA\n",
       "8788              You Carry Me is rated TV-MA\n",
       "8798                  Zed Plus is rated TV-MA\n",
       "8801                   Zinzana is rated TV-MA\n",
       "Length: 3207, dtype: object"
      ]
     },
     "execution_count": 94,
     "metadata": {},
     "output_type": "execute_result"
    }
   ],
   "source": [
    "title_tvma_df = df_combine_rating_des.loc[df_combine_rating_des['rating'] == 'TV-MA']\n",
    "\n",
    "title_tv14_df = df_combine_rating_des.loc[df_combine_rating_des['rating'] == 'TV-14']\n",
    "\n",
    "title_pg_df = df_combine_rating_des.loc[df_combine_rating_des['rating'] == 'PG']\n",
    "\n",
    "title_r_df = df_combine_rating_des.loc[df_combine_rating_des['rating'] == 'R']\n",
    "\n",
    "title_pg13_df = df_combine_rating_des.loc[df_combine_rating_des['rating'] == 'PG-13']\n",
    "\n",
    "\n",
    "title_tvma_df['title'] + \" is rated \" + title_tvma_df['rating']"
   ]
  },
  {
   "cell_type": "markdown",
   "metadata": {},
   "source": [
    "## rating given title"
   ]
  },
  {
   "cell_type": "code",
   "execution_count": 95,
   "metadata": {},
   "outputs": [],
   "source": [
    "import random\n",
    "\n",
    "labeled_titles = ([(title, 'PG-13') for title in title_pg13_df.title] + [(title, 'R') for title in title_r_df.title] + \n",
    "                 [(title, 'PG') for title in title_pg_df.title] + [(title, 'TV-14') for title in title_tv14_df.title] +\n",
    "                 [(title, 'TV-MA') for title in title_tvma_df.title])\n",
    "\n",
    "#print(labeled_titles[0])\n",
    "random.shuffle(labeled_titles)\n",
    "#print(labeled_titles[0])"
   ]
  },
  {
   "cell_type": "code",
   "execution_count": 96,
   "metadata": {},
   "outputs": [
    {
     "data": {
      "text/plain": [
       "0.398"
      ]
     },
     "execution_count": 96,
     "metadata": {},
     "output_type": "execute_result"
    }
   ],
   "source": [
    "def rating_features(title):\n",
    "    mid = len(title)//2\n",
    "    return {'suffix1': title[-1:], \n",
    "            'suffix2': title[-2:],\n",
    "            'prefix': title[:1],\n",
    "            'middle2': title[mid:],\n",
    "            'middle1': title[:mid],\n",
    "            'length': len(title)\n",
    "           }\n",
    "\n",
    "featuresets = [(rating_features(n), rating) for (n, rating) in labeled_titles]\n",
    "\n",
    "train_names, test_names, devtest_names = labeled_titles[1000:], labeled_titles[:500], labeled_titles[500:1000]\n",
    "\n",
    "train_set = [(rating_features(n), rating) for (n, rating) in train_names]\n",
    "\n",
    "devtest_set = [(rating_features(n), rating) for (n, rating) in devtest_names]\n",
    "\n",
    "test_set = [(rating_features(n), rating) for (n, rating) in test_names]\n",
    "\n",
    "\n",
    "#my_classifier = nltk.NaiveBayesClassifier.train(train_set)\n",
    "my_classifier = nltk.NaiveBayesClassifier.train(train_set)\n",
    "nltk.classify.accuracy(my_classifier, devtest_set)"
   ]
  },
  {
   "cell_type": "code",
   "execution_count": 97,
   "metadata": {},
   "outputs": [
    {
     "data": {
      "text/plain": [
       "'TV-MA'"
      ]
     },
     "execution_count": 97,
     "metadata": {},
     "output_type": "execute_result"
    }
   ],
   "source": [
    "my_classifier.classify(rating_features('Lifechanger'))"
   ]
  },
  {
   "cell_type": "code",
   "execution_count": 98,
   "metadata": {},
   "outputs": [
    {
     "name": "stdout",
     "output_type": "stream",
     "text": [
      "correct=PG       guess=PG-13    title=Dr. Seuss' The Lorax          \n",
      "correct=PG       guess=R        title=A Walk to Remember            \n",
      "correct=PG       guess=R        title=Mune: Guardian of the Moon    \n",
      "correct=PG       guess=TV-14    title=Big Fat Liar                  \n",
      "correct=PG       guess=TV-14    title=It Takes Two                  \n",
      "correct=PG       guess=TV-14    title=Skater Girl                   \n",
      "correct=PG       guess=TV-14    title=Taare Zameen Par              \n",
      "correct=PG       guess=TV-MA    title=David Attenborough: A Life on Our Planet\n",
      "correct=PG       guess=TV-MA    title=God's Not Dead: A Light in Darkness\n",
      "correct=PG       guess=TV-MA    title=How the Grinch Stole Christmas\n",
      "correct=PG       guess=TV-MA    title=Judy Moody and the Not Bummer Summer\n",
      "correct=PG       guess=TV-MA    title=Klaus                         \n",
      "correct=PG       guess=TV-MA    title=Open Season                   \n",
      "correct=PG       guess=TV-MA    title=Unaccompanied Minors          \n",
      "correct=PG       guess=TV-MA    title=Yellowbird                    \n",
      "correct=PG-13    guess=PG       title=Men in Black II               \n",
      "correct=PG-13    guess=PG       title=Rocky V                       \n",
      "correct=PG-13    guess=R        title=Birth of the Dragon           \n",
      "correct=PG-13    guess=R        title=Chappaquiddick                \n",
      "correct=PG-13    guess=R        title=Good Hair                     \n",
      "correct=PG-13    guess=R        title=Ip Man 3                      \n",
      "correct=PG-13    guess=R        title=Safe Haven                    \n",
      "correct=PG-13    guess=R        title=The Breadwinner               \n",
      "correct=PG-13    guess=R        title=The Bye Bye Man               \n",
      "correct=PG-13    guess=R        title=The Meddler                   \n",
      "correct=PG-13    guess=R        title=What Lies Beneath             \n",
      "correct=PG-13    guess=TV-14    title=Dante's Peak                  \n",
      "correct=PG-13    guess=TV-14    title=Hubie Halloween               \n",
      "correct=PG-13    guess=TV-14    title=Kon-Tiki                      \n",
      "correct=PG-13    guess=TV-14    title=Little Nicky                  \n",
      "correct=PG-13    guess=TV-14    title=Next                          \n",
      "correct=PG-13    guess=TV-14    title=Ocean's Thirteen              \n",
      "correct=PG-13    guess=TV-14    title=Our House                     \n",
      "correct=PG-13    guess=TV-14    title=To Wong Foo, Thanks for Everything! Julie Newmar\n",
      "correct=PG-13    guess=TV-MA    title=Accepted                      \n",
      "correct=PG-13    guess=TV-MA    title=Austin Powers: International Man of Mystery\n",
      "correct=PG-13    guess=TV-MA    title=Bring It On: Worldwide Showdown\n",
      "correct=PG-13    guess=TV-MA    title=Casino Royale                 \n",
      "correct=PG-13    guess=TV-MA    title=Dovlatov                      \n",
      "correct=PG-13    guess=TV-MA    title=Employee of the Month         \n",
      "correct=PG-13    guess=TV-MA    title=Ghost Rider                   \n",
      "correct=PG-13    guess=TV-MA    title=How to Be a Latin Lover       \n",
      "correct=PG-13    guess=TV-MA    title=Jeremy Scott: The People's Designer\n",
      "correct=PG-13    guess=TV-MA    title=Lee Daniels' The Butler       \n",
      "correct=PG-13    guess=TV-MA    title=Left Behind                   \n",
      "correct=PG-13    guess=TV-MA    title=Marshall                      \n",
      "correct=PG-13    guess=TV-MA    title=Poms                          \n",
      "correct=PG-13    guess=TV-MA    title=Scorpion King 5: Book of Souls\n",
      "correct=PG-13    guess=TV-MA    title=Septembers of Shiraz          \n",
      "correct=PG-13    guess=TV-MA    title=The Artist                    \n",
      "correct=PG-13    guess=TV-MA    title=The Boy in the Striped Pajamas\n",
      "correct=PG-13    guess=TV-MA    title=The Last Exorcism             \n",
      "correct=PG-13    guess=TV-MA    title=The Reliant                   \n",
      "correct=PG-13    guess=TV-MA    title=The Signal                    \n",
      "correct=PG-13    guess=TV-MA    title=The Silence                   \n",
      "correct=PG-13    guess=TV-MA    title=The Twilight Saga: New Moon   \n",
      "correct=PG-13    guess=TV-MA    title=Tomorrow Never Dies           \n",
      "correct=PG-13    guess=TV-MA    title=Traitor                       \n",
      "correct=PG-13    guess=TV-MA    title=Tremors 6: A Cold Day in Hell \n",
      "correct=PG-13    guess=TV-MA    title=Welcome Home Roscoe Jenkins   \n",
      "correct=PG-13    guess=TV-MA    title=Wyatt Earp                    \n",
      "correct=R        guess=PG       title=W.E.                          \n",
      "correct=R        guess=PG-13    title=Black '47                     \n",
      "correct=R        guess=PG-13    title=Black Sea                     \n",
      "correct=R        guess=PG-13    title=Rumble in the Bronx           \n",
      "correct=R        guess=PG-13    title=Sweeney Todd: The Demon Barber of Fleet Street\n",
      "correct=R        guess=TV-14    title=A Most Violent Year           \n",
      "correct=R        guess=TV-14    title=Act of Valor                  \n",
      "correct=R        guess=TV-14    title=All the Devil's Men           \n",
      "correct=R        guess=TV-14    title=Closed Circuit                \n",
      "correct=R        guess=TV-14    title=Cult of Chucky                \n",
      "correct=R        guess=TV-14    title=Don't Knock Twice             \n",
      "correct=R        guess=TV-14    title=House Party                   \n",
      "correct=R        guess=TV-14    title=Jarhead: Law of Return        \n",
      "correct=R        guess=TV-14    title=John Henry                    \n",
      "correct=R        guess=TV-14    title=Martin Lawrence Live: Runteldat\n",
      "correct=R        guess=TV-14    title=Milk                          \n",
      "correct=R        guess=TV-14    title=Oasis: Supersonic             \n",
      "correct=R        guess=TV-14    title=Perfect Stranger              \n",
      "correct=R        guess=TV-14    title=Schindler's List              \n",
      "correct=R        guess=TV-14    title=Sniper: Legacy                \n",
      "correct=R        guess=TV-14    title=Strange Weather               \n",
      "correct=R        guess=TV-14    title=Synchronic                    \n",
      "correct=R        guess=TV-14    title=Wakefield                     \n",
      "correct=R        guess=TV-MA    title=Black Hawk Down               \n",
      "correct=R        guess=TV-MA    title=Chernobyl Diaries             \n",
      "correct=R        guess=TV-MA    title=Death at a Funeral            \n",
      "correct=R        guess=TV-MA    title=Detour                        \n",
      "correct=R        guess=TV-MA    title=Extremely Wicked, Shockingly Evil and Vile\n",
      "correct=R        guess=TV-MA    title=Freedomland                   \n",
      "correct=R        guess=TV-MA    title=Good Time                     \n",
      "correct=R        guess=TV-MA    title=Inconceivable                 \n",
      "correct=R        guess=TV-MA    title=Kicking and Screaming         \n",
      "correct=R        guess=TV-MA    title=Last Night                    \n",
      "correct=R        guess=TV-MA    title=Lying and Stealing            \n",
      "correct=R        guess=TV-MA    title=Molly's Game                  \n",
      "correct=R        guess=TV-MA    title=Natural Born Pranksters       \n",
      "correct=R        guess=TV-MA    title=Occupation                    \n",
      "correct=R        guess=TV-MA    title=Pineapple Express             \n",
      "correct=R        guess=TV-MA    title=Revenge of the Green Dragons  \n",
      "correct=R        guess=TV-MA    title=Righteous Kill                \n",
      "correct=R        guess=TV-MA    title=Sex and the City: The Movie   \n",
      "correct=R        guess=TV-MA    title=Striptease                    \n",
      "correct=R        guess=TV-MA    title=The Eyes of My Mother         \n",
      "correct=R        guess=TV-MA    title=The Intouchables              \n",
      "correct=R        guess=TV-MA    title=The Last Boy Scout            \n",
      "correct=R        guess=TV-MA    title=The Long Dumb Road            \n",
      "correct=R        guess=TV-MA    title=The Machinist                 \n",
      "correct=R        guess=TV-MA    title=The Place Beyond the Pines    \n",
      "correct=R        guess=TV-MA    title=The Shadow of Violence        \n",
      "correct=R        guess=TV-MA    title=The Trust                     \n",
      "correct=R        guess=TV-MA    title=The Wind                      \n",
      "correct=R        guess=TV-MA    title=Trash                         \n",
      "correct=R        guess=TV-MA    title=Welcome Home                  \n",
      "correct=TV-14    guess=PG       title=Cinta 100KG                   \n",
      "correct=TV-14    guess=PG       title=Fate/Grand Order -First Order-\n",
      "correct=TV-14    guess=PG       title=Force 2                       \n",
      "correct=TV-14    guess=PG       title=Hank: Five Years from the Brink\n",
      "correct=TV-14    guess=PG       title=Hükümet Kadin 2               \n",
      "correct=TV-14    guess=PG       title=OCTB                          \n",
      "correct=TV-14    guess=PG       title=Rab Se Sohna Isshq            \n",
      "correct=TV-14    guess=PG       title=يوم الدين                     \n",
      "correct=TV-14    guess=PG-13    title=Anjaan: Rural Myths           \n",
      "correct=TV-14    guess=PG-13    title=Busted!                       \n",
      "correct=TV-14    guess=PG-13    title=Goodnight DJ 1                \n",
      "correct=TV-14    guess=PG-13    title=Padamu Aku Bersujud           \n",
      "correct=TV-14    guess=PG-13    title=Qarib Qarib Singlle           \n",
      "correct=TV-14    guess=PG-13    title=Qin Empire: Alliance          \n",
      "correct=TV-14    guess=PG-13    title=The Claudia Kishi Club        \n",
      "correct=TV-14    guess=R        title=ATM                           \n",
      "correct=TV-14    guess=R        title=Are You The One               \n",
      "correct=TV-14    guess=R        title=Between Maybes                \n",
      "correct=TV-14    guess=R        title=Couple of Days                \n",
      "correct=TV-14    guess=R        title=Forged in Fire                \n",
      "correct=TV-14    guess=R        title=Hidden Worlds                 \n",
      "correct=TV-14    guess=R        title=Music Teacher                 \n",
      "correct=TV-14    guess=R        title=Orbiter 9                     \n",
      "correct=TV-14    guess=R        title=The Bible's Buried Secrets    \n",
      "correct=TV-14    guess=R        title=The Negro Soldier             \n",
      "correct=TV-14    guess=R        title=The Uncanny Counter           \n",
      "correct=TV-14    guess=R        title=The Yin Yang Master           \n",
      "correct=TV-14    guess=R        title=White Rabbit Project          \n",
      "correct=TV-14    guess=TV-MA    title=40 Sticks                     \n",
      "correct=TV-14    guess=TV-MA    title=A Very Murray Christmas       \n",
      "correct=TV-14    guess=TV-MA    title=AlRawabi School for Girls     \n",
      "correct=TV-14    guess=TV-MA    title=American Experience: The Island Murder\n",
      "correct=TV-14    guess=TV-MA    title=Atypical                      \n",
      "correct=TV-14    guess=TV-MA    title=Bittoo Boss                   \n",
      "correct=TV-14    guess=TV-MA    title=Bleach                        \n",
      "correct=TV-14    guess=TV-MA    title=Boys Over Flowers             \n",
      "correct=TV-14    guess=TV-MA    title=Brothers                      \n",
      "correct=TV-14    guess=TV-MA    title=Bucket List                   \n",
      "correct=TV-14    guess=TV-MA    title=Catching the Sun              \n",
      "correct=TV-14    guess=TV-MA    title=Cooked                        \n",
      "correct=TV-14    guess=TV-MA    title=Disciples Of The 36th Chamber \n",
      "correct=TV-14    guess=TV-MA    title=Elaan                         \n",
      "correct=TV-14    guess=TV-MA    title=Entangled                     \n",
      "correct=TV-14    guess=TV-MA    title=Erased                        \n",
      "correct=TV-14    guess=TV-MA    title=Forbidden Games: The Justin Fashanu Story\n",
      "correct=TV-14    guess=TV-MA    title=Funan                         \n",
      "correct=TV-14    guess=TV-MA    title=Ghost Whispers                \n",
      "correct=TV-14    guess=TV-MA    title=Glow Up                       \n",
      "correct=TV-14    guess=TV-MA    title=Half & Half                   \n",
      "correct=TV-14    guess=TV-MA    title=Happy Endings                 \n",
      "correct=TV-14    guess=TV-MA    title=Harold Shipman - Driven to Kill\n",
      "correct=TV-14    guess=TV-MA    title=Helios                        \n",
      "correct=TV-14    guess=TV-MA    title=Hello, Love, Goodbye          \n",
      "correct=TV-14    guess=TV-MA    title=Hum Aapke Hain Koun           \n",
      "correct=TV-14    guess=TV-MA    title=Inheritors                    \n",
      "correct=TV-14    guess=TV-MA    title=Iron Ladies                   \n",
      "correct=TV-14    guess=TV-MA    title=Last                          \n",
      "correct=TV-14    guess=TV-MA    title=Let's Dance                   \n",
      "correct=TV-14    guess=TV-MA    title=Love Around                   \n",
      "correct=TV-14    guess=TV-MA    title=Love for Ten: Generation of Youth\n",
      "correct=TV-14    guess=TV-MA    title=Manhunt: Deadly Games         \n",
      "correct=TV-14    guess=TV-MA    title=Miss Me This Christmas        \n",
      "correct=TV-14    guess=TV-MA    title=Monty Python's Flying Circus  \n",
      "correct=TV-14    guess=TV-MA    title=Mr. Virgin                    \n",
      "correct=TV-14    guess=TV-MA    title=Mundeyan Ton Bachke Rahin     \n",
      "correct=TV-14    guess=TV-MA    title=My Pride                      \n",
      "correct=TV-14    guess=TV-MA    title=Naruto Shippuden : Blood Prison\n",
      "correct=TV-14    guess=TV-MA    title=On Yoga The Architecture of Peace\n",
      "correct=TV-14    guess=TV-MA    title=One in a Billion              \n",
      "correct=TV-14    guess=TV-MA    title=Pop, Lock 'n Roll             \n",
      "correct=TV-14    guess=TV-MA    title=Quantico                      \n",
      "correct=TV-14    guess=TV-MA    title=Restaurants on the Edge       \n",
      "correct=TV-14    guess=TV-MA    title=Run                           \n",
      "correct=TV-14    guess=TV-MA    title=Savita Damodar Paranjpe       \n",
      "correct=TV-14    guess=TV-MA    title=Sen Kimsin?                   \n",
      "correct=TV-14    guess=TV-MA    title=Serial Killer with Piers Morgan\n",
      "correct=TV-14    guess=TV-MA    title=That '70s Show                \n",
      "correct=TV-14    guess=TV-MA    title=The Burial of Kojo            \n",
      "correct=TV-14    guess=TV-MA    title=The Good Place                \n",
      "correct=TV-14    guess=TV-MA    title=The In-Laws                   \n",
      "correct=TV-14    guess=TV-MA    title=The Last Summer               \n",
      "correct=TV-14    guess=TV-MA    title=The Man Who Would Be Polka King\n",
      "correct=TV-14    guess=TV-MA    title=The Seven Deadly Sins         \n",
      "correct=TV-14    guess=TV-MA    title=The Week Of                   \n",
      "correct=TV-14    guess=TV-MA    title=The West Wing                 \n",
      "correct=TV-14    guess=TV-MA    title=This Evening                  \n",
      "correct=TV-14    guess=TV-MA    title=Valor                         \n",
      "correct=TV-14    guess=TV-MA    title=What a Wonderful Family!      \n",
      "correct=TV-14    guess=TV-MA    title=When Love Happens             \n",
      "correct=TV-14    guess=TV-MA    title=Win the Wilderness            \n",
      "correct=TV-14    guess=TV-MA    title=Women Behind Bars             \n",
      "correct=TV-MA    guess=PG       title=BAKI                          \n",
      "correct=TV-MA    guess=PG       title=Imperial Dreams               \n",
      "correct=TV-MA    guess=PG       title=Lady J                        \n",
      "correct=TV-MA    guess=PG       title=Monty Python Best Bits (mostly)\n",
      "correct=TV-MA    guess=PG       title=Monty Python Live (Mostly): One Down, Five to Go\n",
      "correct=TV-MA    guess=PG       title=My Wife and I                 \n",
      "correct=TV-MA    guess=PG       title=Sitting in Limbo              \n",
      "correct=TV-MA    guess=PG       title=Tiffany Haddish: She Ready! From the Hood To Hollywood!\n",
      "correct=TV-MA    guess=PG       title=Too Hot to Handle: Brazil     \n",
      "correct=TV-MA    guess=PG-13    title=100 Days Of Solitude          \n",
      "correct=TV-MA    guess=PG-13    title=3 Türken & ein Baby           \n",
      "correct=TV-MA    guess=PG-13    title=Dark Tourist                  \n",
      "correct=TV-MA    guess=PG-13    title=G.O.R.A                       \n",
      "correct=TV-MA    guess=PG-13    title=Layla M.                      \n",
      "correct=TV-MA    guess=PG-13    title=Midnight Mass                 \n",
      "correct=TV-MA    guess=PG-13    title=P                             \n",
      "correct=TV-MA    guess=PG-13    title=Queen of the South            \n",
      "correct=TV-MA    guess=PG-13    title=The Fix                       \n",
      "correct=TV-MA    guess=PG-13    title=Trailer Park Boys: Out of the Park: USA\n",
      "correct=TV-MA    guess=R        title=AMO                           \n",
      "correct=TV-MA    guess=R        title=After Life                    \n",
      "correct=TV-MA    guess=R        title=American Crime                \n",
      "correct=TV-MA    guess=R        title=American Crime Story: The People v. O.J. Simpson\n",
      "correct=TV-MA    guess=R        title=American Woman                \n",
      "correct=TV-MA    guess=R        title=Cheer                         \n",
      "correct=TV-MA    guess=R        title=Count Me In                   \n",
      "correct=TV-MA    guess=R        title=Dabbe 5: Zehr-i Cin           \n",
      "correct=TV-MA    guess=R        title=Filmworker                    \n",
      "correct=TV-MA    guess=R        title=Good on Paper                 \n",
      "correct=TV-MA    guess=R        title=Grass Is Greener              \n",
      "correct=TV-MA    guess=R        title=Great Pretender               \n",
      "correct=TV-MA    guess=R        title=Green Frontier                \n",
      "correct=TV-MA    guess=R        title=Illegal Woman                 \n",
      "correct=TV-MA    guess=R        title=Into the Wind                 \n",
      "correct=TV-MA    guess=R        title=Jim & Andy: The Great Beyond - Featuring a Very Special, Contractually Obligated Mention of Tony Clifton\n",
      "correct=TV-MA    guess=R        title=Like Father                   \n",
      "correct=TV-MA    guess=R        title=Soundtrack                    \n",
      "correct=TV-MA    guess=R        title=Station Horizon               \n",
      "correct=TV-MA    guess=R        title=Summer of '92                 \n",
      "correct=TV-MA    guess=R        title=The River Runner              \n",
      "correct=TV-MA    guess=R        title=They Are Everywhere           \n",
      "correct=TV-MA    guess=R        title=Tim Minchin: So F**king Rock  \n",
      "correct=TV-MA    guess=R        title=Train of the Dead             \n",
      "correct=TV-MA    guess=R        title=Voulez-vous rire avec moi ce soir?\n",
      "correct=TV-MA    guess=R        title=Wild District                 \n",
      "correct=TV-MA    guess=R        title=Would You Rather              \n",
      "correct=TV-MA    guess=TV-14    title=A Second Chance               \n",
      "correct=TV-MA    guess=TV-14    title=Almost Love                   \n",
      "correct=TV-MA    guess=TV-14    title=Arrested Development          \n",
      "correct=TV-MA    guess=TV-14    title=Axone                         \n",
      "correct=TV-MA    guess=TV-14    title=Bartkowiak                    \n",
      "correct=TV-MA    guess=TV-14    title=Bill Burr: I'm Sorry You Feel That Way\n",
      "correct=TV-MA    guess=TV-14    title=Bir Baba Hindu                \n",
      "correct=TV-MA    guess=TV-14    title=Bombairiya                    \n",
      "correct=TV-MA    guess=TV-14    title=Borgen                        \n",
      "correct=TV-MA    guess=TV-14    title=Buster's Mal Heart            \n",
      "correct=TV-MA    guess=TV-14    title=Calum von Moger: Unbroken     \n",
      "correct=TV-MA    guess=TV-14    title=Carlos Ballarta: Furia Ñera   \n",
      "correct=TV-MA    guess=TV-14    title=Daybreak                      \n",
      "correct=TV-MA    guess=TV-14    title=Derek                         \n",
      "correct=TV-MA    guess=TV-14    title=Diamond City                  \n",
      "correct=TV-MA    guess=TV-14    title=Discovering Bigfoot           \n",
      "correct=TV-MA    guess=TV-14    title=Düğün Dernek                  \n",
      "correct=TV-MA    guess=TV-14    title=Fatal Destiny                 \n",
      "correct=TV-MA    guess=TV-14    title=Get the Grift                 \n",
      "correct=TV-MA    guess=TV-14    title=Ginny Weds Sunny              \n",
      "correct=TV-MA    guess=TV-14    title=Here Alone                    \n",
      "correct=TV-MA    guess=TV-14    title=Ije: The Journey              \n",
      "correct=TV-MA    guess=TV-14    title=Kabir Singh                   \n",
      "correct=TV-MA    guess=TV-14    title=Kevin Hart: Zero F**ks Given  \n",
      "correct=TV-MA    guess=TV-14    title=Kill Command                  \n",
      "correct=TV-MA    guess=TV-14    title=Kim's Convenience             \n",
      "correct=TV-MA    guess=TV-14    title=Kyaa Kool Hai Hum             \n",
      "correct=TV-MA    guess=TV-14    title=Lilyhammer                    \n",
      "correct=TV-MA    guess=TV-14    title=Limmy's Show!                 \n",
      "correct=TV-MA    guess=TV-14    title=Locust                        \n",
      "correct=TV-MA    guess=TV-14    title=Love Is a Story               \n",
      "correct=TV-MA    guess=TV-14    title=Love Wedding Repeat           \n",
      "correct=TV-MA    guess=TV-14    title=Mumbai Meri Jaan              \n",
      "correct=TV-MA    guess=TV-14    title=Nail Bomber: Manhunt          \n",
      "correct=TV-MA    guess=TV-14    title=No Direction Home: Bob Dylan  \n",
      "correct=TV-MA    guess=TV-14    title=Orange Is the New Black       \n",
      "correct=TV-MA    guess=TV-14    title=Parasyte: The Maxim           \n",
      "correct=TV-MA    guess=TV-14    title=Peter and the Farm            \n",
      "correct=TV-MA    guess=TV-14    title=Sabrina                       \n",
      "correct=TV-MA    guess=TV-14    title=Shaitan                       \n",
      "correct=TV-MA    guess=TV-14    title=Single Ladies Senior          \n",
      "correct=TV-MA    guess=TV-14    title=Sotus The Series              \n",
      "correct=TV-MA    guess=TV-14    title=The Fisherman's Diary         \n",
      "correct=TV-MA    guess=TV-14    title=The Love Affair               \n",
      "correct=TV-MA    guess=TV-14    title=The New Romantic              \n",
      "correct=TV-MA    guess=TV-14    title=The War Next-door             \n",
      "correct=TV-MA    guess=TV-14    title=Trial By Media                \n",
      "correct=TV-MA    guess=TV-14    title=Turkish Dance School          \n",
      "correct=TV-MA    guess=TV-14    title=Whisky                        \n",
      "correct=TV-MA    guess=TV-14    title=Zinzana                       \n"
     ]
    }
   ],
   "source": [
    "#checking to see if guess is correct\n",
    "errors = []\n",
    "for (title, rating) in devtest_names:\n",
    "    guess = my_classifier.classify(rating_features(title))\n",
    "    if guess != rating:\n",
    "        errors.append( (rating, guess, title) )\n",
    "        \n",
    "for (rating, guess, title) in sorted(errors):\n",
    "    print('correct={:<8} guess={:<8s} title={:<30}'.format(rating, guess, title))"
   ]
  },
  {
   "cell_type": "code",
   "execution_count": 99,
   "metadata": {},
   "outputs": [
    {
     "name": "stdout",
     "output_type": "stream",
     "text": [
      "Most Informative Features\n",
      "                 middle1 = 'The '          TV-MA : PG     =     14.6 : 1.0\n",
      "                 suffix2 = 'II'               PG : TV-MA  =     10.5 : 1.0\n",
      "                 suffix1 = 'G'                PG : TV-MA  =      9.9 : 1.0\n",
      "                 suffix1 = 'I'                PG : TV-MA  =      9.9 : 1.0\n",
      "                  length = 33                 PG : PG-13  =      8.8 : 1.0\n",
      "                  prefix = '6'                 R : TV-14  =      8.0 : 1.0\n",
      "                 suffix1 = '9'                 R : TV-14  =      7.8 : 1.0\n",
      "                 suffix2 = 'al'            TV-MA : PG-13  =      7.5 : 1.0\n",
      "                 suffix2 = 'my'                R : TV-MA  =      7.4 : 1.0\n",
      "                  prefix = 'X'             PG-13 : TV-14  =      7.4 : 1.0\n",
      "                  length = 25                 PG : R      =      7.0 : 1.0\n",
      "                  prefix = '2'             PG-13 : TV-14  =      6.9 : 1.0\n",
      "                 suffix1 = 'i'             TV-14 : R      =      6.8 : 1.0\n",
      "                  length = 39                 PG : TV-14  =      6.7 : 1.0\n",
      "                  prefix = '5'             PG-13 : TV-MA  =      6.6 : 1.0\n",
      "                  length = 12              PG-13 : PG     =      6.6 : 1.0\n",
      "                  length = 47              PG-13 : TV-MA  =      6.5 : 1.0\n",
      "                 suffix2 = 'or'            TV-MA : R      =      6.4 : 1.0\n",
      "                  length = 26                  R : PG-13  =      6.3 : 1.0\n",
      "                 suffix1 = 'x'             PG-13 : TV-14  =      6.2 : 1.0\n",
      "                  length = 55                 PG : TV-MA  =      6.1 : 1.0\n",
      "                 suffix1 = '!'             TV-14 : R      =      6.0 : 1.0\n",
      "                 suffix1 = 'Y'                PG : TV-MA  =      5.9 : 1.0\n",
      "                 suffix2 = 'AY'               PG : TV-MA  =      5.8 : 1.0\n",
      "                 suffix2 = 'nn'               PG : TV-MA  =      5.8 : 1.0\n",
      "                 suffix2 = 'wo'               PG : TV-MA  =      5.8 : 1.0\n",
      "                 suffix2 = 'go'               PG : TV-MA  =      5.8 : 1.0\n",
      "                 suffix2 = 'lt'               PG : TV-MA  =      5.8 : 1.0\n",
      "                  length = 35                 PG : PG-13  =      5.7 : 1.0\n",
      "                 suffix2 = ' 9'                R : TV-MA  =      5.3 : 1.0\n",
      "                 suffix2 = 'au'                R : TV-MA  =      5.3 : 1.0\n",
      "                 suffix2 = 'ek'                R : TV-MA  =      5.3 : 1.0\n",
      "                 suffix2 = 'ox'            PG-13 : TV-14  =      5.2 : 1.0\n",
      "                 suffix2 = 'ze'                R : TV-14  =      5.2 : 1.0\n",
      "                 suffix2 = 'no'                R : TV-MA  =      5.0 : 1.0\n",
      "                  length = 40              PG-13 : R      =      4.9 : 1.0\n",
      "                 middle1 = 'America'           R : TV-MA  =      4.9 : 1.0\n",
      "                 suffix2 = 'me'            TV-MA : PG-13  =      4.8 : 1.0\n",
      "                 suffix1 = '7'                 R : TV-14  =      4.7 : 1.0\n",
      "                 suffix2 = 'ai'            TV-14 : PG-13  =      4.6 : 1.0\n",
      "                 suffix2 = 'st'                R : PG     =      4.5 : 1.0\n",
      "                 suffix2 = 'rl'               PG : TV-MA  =      4.5 : 1.0\n",
      "                 suffix2 = 'ft'            PG-13 : TV-MA  =      4.5 : 1.0\n",
      "                 suffix2 = 'hn'            PG-13 : TV-MA  =      4.5 : 1.0\n",
      "                 suffix2 = 'ix'            PG-13 : TV-MA  =      4.5 : 1.0\n",
      "                 suffix2 = 's.'            PG-13 : TV-MA  =      4.5 : 1.0\n",
      "                 suffix2 = 'ux'            PG-13 : TV-MA  =      4.5 : 1.0\n",
      "                 suffix2 = 'yd'            PG-13 : TV-MA  =      4.5 : 1.0\n",
      "                 suffix2 = ' 1'            PG-13 : TV-MA  =      4.5 : 1.0\n",
      "                 suffix2 = ' A'            PG-13 : TV-MA  =      4.5 : 1.0\n",
      "                 suffix2 = 'It'            PG-13 : TV-MA  =      4.5 : 1.0\n",
      "                 suffix2 = 've'            TV-MA : PG     =      4.5 : 1.0\n",
      "                  length = 19              PG-13 : PG     =      4.5 : 1.0\n",
      "                 suffix1 = '2'                PG : TV-MA  =      4.5 : 1.0\n",
      "                 suffix2 = 'rs'            TV-MA : PG     =      4.5 : 1.0\n",
      "                 suffix1 = ')'             TV-14 : PG-13  =      4.4 : 1.0\n",
      "                 suffix1 = 'u'             TV-14 : PG-13  =      4.4 : 1.0\n",
      "                 suffix2 = 'ks'            PG-13 : TV-14  =      4.4 : 1.0\n",
      "                 suffix2 = 'te'            PG-13 : PG     =      4.4 : 1.0\n",
      "                  length = 50              PG-13 : TV-14  =      4.3 : 1.0\n",
      "                  length = 56              PG-13 : TV-14  =      4.3 : 1.0\n",
      "                 suffix1 = 'A'             PG-13 : TV-14  =      4.3 : 1.0\n",
      "                  length = 37                 PG : R      =      4.3 : 1.0\n",
      "                 suffix2 = 'ld'            PG-13 : R      =      4.2 : 1.0\n",
      "                 suffix2 = 'ng'            TV-MA : PG     =      4.2 : 1.0\n",
      "                 suffix2 = 'ra'            TV-14 : R      =      4.1 : 1.0\n",
      "                 suffix2 = 'as'            TV-MA : PG-13  =      4.1 : 1.0\n",
      "                 suffix2 = 'dy'               PG : TV-14  =      4.1 : 1.0\n",
      "                 suffix2 = 'op'               PG : TV-14  =      4.1 : 1.0\n",
      "                 suffix2 = 'ob'               PG : TV-14  =      4.1 : 1.0\n",
      "                 suffix2 = 'pe'               PG : TV-14  =      4.1 : 1.0\n",
      "                 suffix2 = 's!'               PG : TV-14  =      4.1 : 1.0\n",
      "                  prefix = '9'             PG-13 : TV-MA  =      4.0 : 1.0\n",
      "                  length = 31                 PG : TV-14  =      3.9 : 1.0\n",
      "                 suffix1 = 'Z'                 R : TV-MA  =      3.9 : 1.0\n",
      "                 suffix1 = 'X'                 R : TV-MA  =      3.9 : 1.0\n",
      "                  length = 1               PG-13 : TV-MA  =      3.9 : 1.0\n",
      "                  length = 45                 PG : TV-MA  =      3.9 : 1.0\n",
      "                 suffix2 = 'ne'                R : PG     =      3.8 : 1.0\n",
      "                 suffix1 = '.'             PG-13 : R      =      3.8 : 1.0\n",
      "                 suffix1 = '1'             PG-13 : R      =      3.8 : 1.0\n",
      "                 suffix2 = 're'                R : PG-13  =      3.8 : 1.0\n",
      "                 suffix2 = 'ha'            TV-14 : R      =      3.8 : 1.0\n",
      "                 suffix2 = 'wn'            TV-MA : TV-14  =      3.7 : 1.0\n",
      "                 suffix2 = 'am'            TV-14 : PG-13  =      3.7 : 1.0\n",
      "                 suffix2 = 'id'               PG : TV-MA  =      3.7 : 1.0\n",
      "                 suffix2 = ' 7'                R : TV-14  =      3.7 : 1.0\n",
      "                 suffix2 = 'ac'                R : TV-14  =      3.7 : 1.0\n",
      "                 suffix2 = 'aw'                R : TV-14  =      3.7 : 1.0\n",
      "                  prefix = '3'             PG-13 : TV-MA  =      3.7 : 1.0\n",
      "                 middle1 = 'Rock'             PG : TV-14  =      3.6 : 1.0\n",
      "                 middle1 = 'Bo'            TV-14 : TV-MA  =      3.6 : 1.0\n",
      "                  length = 46              PG-13 : TV-MA  =      3.6 : 1.0\n",
      "                 suffix2 = ' 2'               PG : PG-13  =      3.6 : 1.0\n",
      "                 suffix2 = 'ke'                R : PG-13  =      3.5 : 1.0\n",
      "                 suffix2 = 'mb'               PG : TV-MA  =      3.5 : 1.0\n",
      "                 suffix2 = 'li'            TV-14 : TV-MA  =      3.5 : 1.0\n",
      "                 suffix2 = 'ss'            TV-MA : PG     =      3.5 : 1.0\n",
      "                 suffix2 = 'ty'            TV-MA : PG     =      3.5 : 1.0\n",
      "                 suffix2 = 'hi'            TV-14 : R      =      3.5 : 1.0\n"
     ]
    }
   ],
   "source": [
    "my_classifier.show_most_informative_features(100)"
   ]
  },
  {
   "cell_type": "markdown",
   "metadata": {},
   "source": [
    "##  geussing types (movie or tv show)"
   ]
  },
  {
   "cell_type": "code",
   "execution_count": 100,
   "metadata": {},
   "outputs": [
    {
     "data": {
      "text/plain": [
       "0                   Dick Johnson Is Dead is type Movie\n",
       "6       My Little Pony: A New Generation is type Movie\n",
       "7                                Sankofa is type Movie\n",
       "9                           The Starling is type Movie\n",
       "12                          Je Suis Karl is type Movie\n",
       "                             ...                      \n",
       "8801                             Zinzana is type Movie\n",
       "8802                              Zodiac is type Movie\n",
       "8804                          Zombieland is type Movie\n",
       "8805                                Zoom is type Movie\n",
       "8806                              Zubaan is type Movie\n",
       "Length: 6131, dtype: object"
      ]
     },
     "execution_count": 100,
     "metadata": {},
     "output_type": "execute_result"
    }
   ],
   "source": [
    "# geussing types (movie or tv show)\n",
    "\n",
    "title_movie_df = df_combine_rating_des.loc[df_combine_rating_des['type'] == 'Movie']\n",
    "\n",
    "title_show_df = df_combine_rating_des.loc[df_combine_rating_des['type'] == 'TV Show']\n",
    "\n",
    "title_movie_df['title'] +\" is type \" + title_movie_df['type']"
   ]
  },
  {
   "cell_type": "code",
   "execution_count": 101,
   "metadata": {},
   "outputs": [
    {
     "name": "stdout",
     "output_type": "stream",
     "text": [
      "('London Hughes: To Catch a D*ck', 'Movie')\n"
     ]
    }
   ],
   "source": [
    "labeled_types = ([(title, 'Movie') for title in title_movie_df.title] + [(title, 'TV Show') for title in title_show_df.title])\n",
    "\n",
    "random.shuffle(labeled_types)\n",
    "print(labeled_types[0])"
   ]
  },
  {
   "cell_type": "code",
   "execution_count": 102,
   "metadata": {},
   "outputs": [],
   "source": [
    "def type_features(title):\n",
    "    mid = len(title)//2\n",
    "    return {'suffix1': title[-1:], \n",
    "            'suffix2': title[-2:],\n",
    "            'prefix': title[:1],\n",
    "            'middle2': title[mid:],\n",
    "            'middle1': title[:mid],\n",
    "            'length': len(title),\n",
    "            'firstThree': title[:2]\n",
    "           }\n",
    "\n",
    "featuresets = [(type_features(n), types) for (n, types) in labeled_types]"
   ]
  },
  {
   "cell_type": "code",
   "execution_count": 103,
   "metadata": {},
   "outputs": [
    {
     "data": {
      "text/plain": [
       "0.568"
      ]
     },
     "execution_count": 103,
     "metadata": {},
     "output_type": "execute_result"
    }
   ],
   "source": [
    "t_train_names, t_test_names, t_devtest_names = labeled_types[1000:], labeled_types[:500], labeled_types[500:1000]\n",
    "\n",
    "type_train_set = [(type_features(n), types) for (n, types) in t_train_names]\n",
    "\n",
    "type_devtest_set = [(type_features(n), types) for (n, types) in t_devtest_names]\n",
    "\n",
    "type_test_set = [(type_features(n), types) for (n, types) in t_test_names]\n",
    "\n",
    "my_t_classifier = nltk.NaiveBayesClassifier.train(type_train_set)\n",
    "nltk.classify.accuracy(my_t_classifier, type_devtest_set) #56.8%"
   ]
  },
  {
   "cell_type": "code",
   "execution_count": 104,
   "metadata": {},
   "outputs": [
    {
     "data": {
      "text/plain": [
       "'Movie'"
      ]
     },
     "execution_count": 104,
     "metadata": {},
     "output_type": "execute_result"
    }
   ],
   "source": [
    "my_t_classifier.classify(type_features('Lifechanger'))"
   ]
  },
  {
   "cell_type": "code",
   "execution_count": 105,
   "metadata": {},
   "outputs": [
    {
     "name": "stdout",
     "output_type": "stream",
     "text": [
      "correct=Movie    guess=TV Show  title=10,000 B.C.                   \n",
      "correct=Movie    guess=TV Show  title=AK vs AK                      \n",
      "correct=Movie    guess=TV Show  title=Agneepath                     \n",
      "correct=Movie    guess=TV Show  title=Back of the Net               \n",
      "correct=Movie    guess=TV Show  title=Barrio Universitario          \n",
      "correct=Movie    guess=TV Show  title=Belief: The Possession of Janet Moses\n",
      "correct=Movie    guess=TV Show  title=Beneath the Leaves            \n",
      "correct=Movie    guess=TV Show  title=Breath                        \n",
      "correct=Movie    guess=TV Show  title=Budapest                      \n",
      "correct=Movie    guess=TV Show  title=C/O Kaadhal                   \n",
      "correct=Movie    guess=TV Show  title=Can’t Complain                \n",
      "correct=Movie    guess=TV Show  title=Catch Me If You Can           \n",
      "correct=Movie    guess=TV Show  title=Chelsea Peretti: One of the Greats\n",
      "correct=Movie    guess=TV Show  title=Chopsticks                    \n",
      "correct=Movie    guess=TV Show  title=Chris D'Elia: No Pain         \n",
      "correct=Movie    guess=TV Show  title=Christmas Crush               \n",
      "correct=Movie    guess=TV Show  title=Christopher Robin             \n",
      "correct=Movie    guess=TV Show  title=Clear and Present Danger      \n",
      "correct=Movie    guess=TV Show  title=Cleopatra Jones               \n",
      "correct=Movie    guess=TV Show  title=Close Enemies                 \n",
      "correct=Movie    guess=TV Show  title=Coffee with D                 \n",
      "correct=Movie    guess=TV Show  title=Conor McGregor: Notorious     \n",
      "correct=Movie    guess=TV Show  title=Consequences                  \n",
      "correct=Movie    guess=TV Show  title=Counterpunch                  \n",
      "correct=Movie    guess=TV Show  title=D.L. Hughley: Contrarian      \n",
      "correct=Movie    guess=TV Show  title=DTC Yukemuri Junjo Hen From High & Low\n",
      "correct=Movie    guess=TV Show  title=Dear Ex                       \n",
      "correct=Movie    guess=TV Show  title=El-Khawaga's Dilemma          \n",
      "correct=Movie    guess=TV Show  title=Fall Girls                    \n",
      "correct=Movie    guess=TV Show  title=Falling Inn Love              \n",
      "correct=Movie    guess=TV Show  title=Fatal Affair                  \n",
      "correct=Movie    guess=TV Show  title=For Your Own Good             \n",
      "correct=Movie    guess=TV Show  title=Forensic                      \n",
      "correct=Movie    guess=TV Show  title=FullMetal Alchemist           \n",
      "correct=Movie    guess=TV Show  title=Gabbar Is Back                \n",
      "correct=Movie    guess=TV Show  title=Görümce                       \n",
      "correct=Movie    guess=TV Show  title=Hakkunde                      \n",
      "correct=Movie    guess=TV Show  title=Handsome Devil                \n",
      "correct=Movie    guess=TV Show  title=Hattrick                      \n",
      "correct=Movie    guess=TV Show  title=Hitler's Steel Beast          \n",
      "correct=Movie    guess=TV Show  title=Honeymoon Travels Pvt. Ltd.   \n",
      "correct=Movie    guess=TV Show  title=House of Z                    \n",
      "correct=Movie    guess=TV Show  title=How I Became a Superhero      \n",
      "correct=Movie    guess=TV Show  title=I'm Thinking of Ending Things \n",
      "correct=Movie    guess=TV Show  title=In Paradox                    \n",
      "correct=Movie    guess=TV Show  title=Internet Famous               \n",
      "correct=Movie    guess=TV Show  title=Intrusion                     \n",
      "correct=Movie    guess=TV Show  title=Iron Sky: The Coming Race     \n",
      "correct=Movie    guess=TV Show  title=Just Say Yes                  \n",
      "correct=Movie    guess=TV Show  title=Kingdom: Ashin of the North   \n",
      "correct=Movie    guess=TV Show  title=Kocan Kadar Konus             \n",
      "correct=Movie    guess=TV Show  title=LEGO Marvel Super Heroes: Black Panther\n",
      "correct=Movie    guess=TV Show  title=Lady Driver                   \n",
      "correct=Movie    guess=TV Show  title=LeapFrog: Phonics Farm        \n",
      "correct=Movie    guess=TV Show  title=Leo the Lion                  \n",
      "correct=Movie    guess=TV Show  title=Live Twice, Love Once         \n",
      "correct=Movie    guess=TV Show  title=Lizzie Borden Took an Ax      \n",
      "correct=Movie    guess=TV Show  title=Maximum Risk                  \n",
      "correct=Movie    guess=TV Show  title=Memories of a Teenager        \n",
      "correct=Movie    guess=TV Show  title=Michelle Wolf: Joke Show      \n",
      "correct=Movie    guess=TV Show  title=Monty Python Live (Mostly): One Down, Five to Go\n",
      "correct=Movie    guess=TV Show  title=My Dog is My Guide            \n",
      "correct=Movie    guess=TV Show  title=Nightbooks                    \n",
      "correct=Movie    guess=TV Show  title=Nowhere Boy                   \n",
      "correct=Movie    guess=TV Show  title=Operation Chromite            \n",
      "correct=Movie    guess=TV Show  title=Paris Is Us                   \n",
      "correct=Movie    guess=TV Show  title=Patron Mutlu Son Istiyor      \n",
      "correct=Movie    guess=TV Show  title=People You May Know           \n",
      "correct=Movie    guess=TV Show  title=Planet 51                     \n",
      "correct=Movie    guess=TV Show  title=Players                       \n",
      "correct=Movie    guess=TV Show  title=Power Paandi                  \n",
      "correct=Movie    guess=TV Show  title=Quiet                         \n",
      "correct=Movie    guess=TV Show  title=Quiet Victory: The Charlie Wedemeyer Story\n",
      "correct=Movie    guess=TV Show  title=ReMastered: Tricky Dick & The Man in Black\n",
      "correct=Movie    guess=TV Show  title=Rhys Nicholson Live at the Athenaeum\n",
      "correct=Movie    guess=TV Show  title=Rocky V                       \n",
      "correct=Movie    guess=TV Show  title=Running Out Of Time           \n",
      "correct=Movie    guess=TV Show  title=Russell Peters: Notorious     \n",
      "correct=Movie    guess=TV Show  title=SAS: Rise of the Black Swan   \n",
      "correct=Movie    guess=TV Show  title=SPF-18                        \n",
      "correct=Movie    guess=TV Show  title=Seven Pounds                  \n",
      "correct=Movie    guess=TV Show  title=Seven Sundays                 \n",
      "correct=Movie    guess=TV Show  title=Shattered Memories            \n",
      "correct=Movie    guess=TV Show  title=Skydancers                    \n",
      "correct=Movie    guess=TV Show  title=Small Soldiers                \n",
      "correct=Movie    guess=TV Show  title=Sorry To Disturb              \n",
      "correct=Movie    guess=TV Show  title=Soul Robbers                  \n",
      "correct=Movie    guess=TV Show  title=Sparkle                       \n",
      "correct=Movie    guess=TV Show  title=Step Outside                  \n",
      "correct=Movie    guess=TV Show  title=Super Monsters: Dia de los Monsters\n",
      "correct=Movie    guess=TV Show  title=Talentime                     \n",
      "correct=Movie    guess=TV Show  title=Term Life                     \n",
      "correct=Movie    guess=TV Show  title=The Ballad of Buster Scruggs  \n",
      "correct=Movie    guess=TV Show  title=The Chosen Ones               \n",
      "correct=Movie    guess=TV Show  title=The Devil All The Time        \n",
      "correct=Movie    guess=TV Show  title=The Devil and Father Amorth   \n",
      "correct=Movie    guess=TV Show  title=The Interview                 \n",
      "correct=Movie    guess=TV Show  title=The Last Thing He Wanted      \n",
      "correct=Movie    guess=TV Show  title=The Mirror Has Two Faces      \n",
      "correct=Movie    guess=TV Show  title=The Rainbow Troops            \n",
      "correct=Movie    guess=TV Show  title=The Search for Life in Space  \n",
      "correct=Movie    guess=TV Show  title=The Space Between Us          \n",
      "correct=Movie    guess=TV Show  title=The Spy Next Door             \n",
      "correct=Movie    guess=TV Show  title=The Starling                  \n",
      "correct=Movie    guess=TV Show  title=The Whole Nine Yards          \n",
      "correct=Movie    guess=TV Show  title=The Women Who Kill Lions      \n",
      "correct=Movie    guess=TV Show  title=This Lady Called Life         \n",
      "correct=Movie    guess=TV Show  title=Tinker Bell and the Legend of the NeverBeast\n",
      "correct=Movie    guess=TV Show  title=Todo Sobre El Asado           \n",
      "correct=Movie    guess=TV Show  title=Tom Segura: Disgraceful       \n",
      "correct=Movie    guess=TV Show  title=Trailer Park Boys: Say Goodnight to the Bad Guys\n",
      "correct=Movie    guess=TV Show  title=Tremors 2: Aftershocks        \n",
      "correct=Movie    guess=TV Show  title=Unacknowledged                \n",
      "correct=Movie    guess=TV Show  title=Unfriended                    \n",
      "correct=Movie    guess=TV Show  title=Veronica                      \n",
      "correct=Movie    guess=TV Show  title=Villain                       \n",
      "correct=Movie    guess=TV Show  title=Walking Out                   \n",
      "correct=Movie    guess=TV Show  title=Wannabe Courageous            \n",
      "correct=Movie    guess=TV Show  title=What Lies Beneath             \n",
      "correct=Movie    guess=TV Show  title=When Love Happens             \n",
      "correct=Movie    guess=TV Show  title=Who the F**k Is That Guy?     \n",
      "correct=Movie    guess=TV Show  title=Winter of Our Dreams          \n",
      "correct=Movie    guess=TV Show  title=World Trade Center            \n",
      "correct=Movie    guess=TV Show  title=Yoko and His Friends          \n",
      "correct=Movie    guess=TV Show  title=Yours, Mine and Ours          \n",
      "correct=Movie    guess=TV Show  title=Zindagi Na Milegi Dobara      \n",
      "correct=TV Show  guess=Movie    title=100 Days My Prince            \n",
      "correct=TV Show  guess=Movie    title=50M2                          \n",
      "correct=TV Show  guess=Movie    title=7 Days Out                    \n",
      "correct=TV Show  guess=Movie    title=Ainori Love Wagon: African Journey\n",
      "correct=TV Show  guess=Movie    title=Anitta: Made In Honório       \n",
      "correct=TV Show  guess=Movie    title=Anohana: The Flower We Saw That Day\n",
      "correct=TV Show  guess=Movie    title=Bad Guys: Vile City           \n",
      "correct=TV Show  guess=Movie    title=Betaal                        \n",
      "correct=TV Show  guess=Movie    title=Bling Empire                  \n",
      "correct=TV Show  guess=Movie    title=Bolívar                       \n",
      "correct=TV Show  guess=Movie    title=Capitani                      \n",
      "correct=TV Show  guess=Movie    title=Centaurworld                  \n",
      "correct=TV Show  guess=Movie    title=Chef's Table                  \n",
      "correct=TV Show  guess=Movie    title=Code Geass: Lelouch of the Rebellion\n",
      "correct=TV Show  guess=Movie    title=Dance & Sing with True        \n",
      "correct=TV Show  guess=Movie    title=Devlok with Devdutt Pattanaik \n",
      "correct=TV Show  guess=Movie    title=Dollar                        \n",
      "correct=TV Show  guess=Movie    title=Down to Earth with Zac Efron  \n",
      "correct=TV Show  guess=Movie    title=Dracula                       \n",
      "correct=TV Show  guess=Movie    title=Durarara!!                    \n",
      "correct=TV Show  guess=Movie    title=Elite Short Stories: Guzmán Caye Rebe\n",
      "correct=TV Show  guess=Movie    title=Everything Will Be Fine       \n",
      "correct=TV Show  guess=Movie    title=Extracurricular               \n",
      "correct=TV Show  guess=Movie    title=Fauda                         \n",
      "correct=TV Show  guess=Movie    title=Fear Files... Har Mod Pe Darr \n",
      "correct=TV Show  guess=Movie    title=Food: Delicious Science       \n",
      "correct=TV Show  guess=Movie    title=Formula 1: Drive to Survive   \n",
      "correct=TV Show  guess=Movie    title=Fresh, Fried & Crispy         \n",
      "correct=TV Show  guess=Movie    title=Godzilla Singular Point       \n",
      "correct=TV Show  guess=Movie    title=Gossip Girl                   \n",
      "correct=TV Show  guess=Movie    title=Half & Half                   \n",
      "correct=TV Show  guess=Movie    title=Happy 300 Days                \n",
      "correct=TV Show  guess=Movie    title=Harry & Bunnie                \n",
      "correct=TV Show  guess=Movie    title=Humsafar                      \n",
      "correct=TV Show  guess=Movie    title=Immigration Nation            \n",
      "correct=TV Show  guess=Movie    title=Immortal Classic              \n",
      "correct=TV Show  guess=Movie    title=Into the Night                \n",
      "correct=TV Show  guess=Movie    title=Jericho                       \n",
      "correct=TV Show  guess=Movie    title=JingleKids                    \n",
      "correct=TV Show  guess=Movie    title=Khawatir                      \n",
      "correct=TV Show  guess=Movie    title=Khelti Hai Zindagi Aankh Micholi\n",
      "correct=TV Show  guess=Movie    title=Kikoriki                      \n",
      "correct=TV Show  guess=Movie    title=Kulipari: Dream Walker        \n",
      "correct=TV Show  guess=Movie    title=Little Singham                \n",
      "correct=TV Show  guess=Movie    title=Locust                        \n",
      "correct=TV Show  guess=Movie    title=Mak Cun                       \n",
      "correct=TV Show  guess=Movie    title=Making a Murderer             \n",
      "correct=TV Show  guess=Movie    title=Marianne                      \n",
      "correct=TV Show  guess=Movie    title=Mighty Little Bheem: Diwali   \n",
      "correct=TV Show  guess=Movie    title=Mine                          \n",
      "correct=TV Show  guess=Movie    title=Minecraft: Story Mode         \n",
      "correct=TV Show  guess=Movie    title=Miss in Kiss                  \n",
      "correct=TV Show  guess=Movie    title=Mobile Suit Gundam UC         \n",
      "correct=TV Show  guess=Movie    title=Nobody's Looking              \n",
      "correct=TV Show  guess=Movie    title=One Day at a Time             \n",
      "correct=TV Show  guess=Movie    title=One on One                    \n",
      "correct=TV Show  guess=Movie    title=Peasants Rebellion            \n",
      "correct=TV Show  guess=Movie    title=Pinky Malinky                 \n",
      "correct=TV Show  guess=Movie    title=Ragnarok                      \n",
      "correct=TV Show  guess=Movie    title=Rake                          \n",
      "correct=TV Show  guess=Movie    title=Re:Mind                       \n",
      "correct=TV Show  guess=Movie    title=Refresh Man                   \n",
      "correct=TV Show  guess=Movie    title=Saint Seiya                   \n",
      "correct=TV Show  guess=Movie    title=Santa Clarita Diet            \n",
      "correct=TV Show  guess=Movie    title=Satrangi                      \n",
      "correct=TV Show  guess=Movie    title=Save Our Shelter              \n",
      "correct=TV Show  guess=Movie    title=Scandal                       \n",
      "correct=TV Show  guess=Movie    title=Secret of the Nile            \n",
      "correct=TV Show  guess=Movie    title=Selection Day                 \n",
      "correct=TV Show  guess=Movie    title=Shadow and Bone               \n",
      "correct=TV Show  guess=Movie    title=Shine On with Reese           \n",
      "correct=TV Show  guess=Movie    title=Sirius the Jaeger             \n",
      "correct=TV Show  guess=Movie    title=Start-Up                      \n",
      "correct=TV Show  guess=Movie    title=Sword Art Online Alternative: Gun Gale Online\n",
      "correct=TV Show  guess=Movie    title=The Adventures of Figaro Pho  \n",
      "correct=TV Show  guess=Movie    title=The Assassination of Gianni Versace\n",
      "correct=TV Show  guess=Movie    title=The Break with Michelle Wolf  \n",
      "correct=TV Show  guess=Movie    title=The Fear                      \n",
      "correct=TV Show  guess=Movie    title=The Healing Powers of Dude    \n",
      "correct=TV Show  guess=Movie    title=The Hook Up Plan              \n",
      "correct=TV Show  guess=Movie    title=The Indian Detective          \n",
      "correct=TV Show  guess=Movie    title=The Order                     \n",
      "correct=TV Show  guess=Movie    title=The Pyramid Code              \n",
      "correct=TV Show  guess=Movie    title=The School Nurse Files        \n",
      "correct=TV Show  guess=Movie    title=The Sniffer                   \n",
      "correct=TV Show  guess=Movie    title=The Spy                       \n",
      "correct=TV Show  guess=Movie    title=The Way of the Househusband   \n",
      "correct=TV Show  guess=Movie    title=Transformers: War For Cybertron Trilogy\n",
      "correct=TV Show  guess=Movie    title=Unauthorized Living           \n",
      "correct=TV Show  guess=Movie    title=What the Love! with Karan Johar\n"
     ]
    }
   ],
   "source": [
    "#error list\n",
    "errors = []\n",
    "for (title, types) in t_devtest_names:\n",
    "    guess = my_t_classifier.classify(type_features(title))\n",
    "    if guess != types:\n",
    "        errors.append( (types, guess, title) )\n",
    "        \n",
    "for (types, guess, title) in sorted(errors):\n",
    "    print('correct={:<8} guess={:<8s} title={:<30}'.format(types, guess, title))"
   ]
  },
  {
   "cell_type": "markdown",
   "metadata": {},
   "source": [
    "## predict rating based on description"
   ]
  },
  {
   "cell_type": "code",
   "execution_count": 106,
   "metadata": {},
   "outputs": [],
   "source": [
    "#predict rating based on description\n",
    "df_rate_desc = pd.DataFrame({'title':netflixData.title, 'rating':netflixData.rating, 'description':netflixData.description})"
   ]
  },
  {
   "cell_type": "code",
   "execution_count": 107,
   "metadata": {},
   "outputs": [
    {
     "data": {
      "text/html": [
       "<div>\n",
       "<style scoped>\n",
       "    .dataframe tbody tr th:only-of-type {\n",
       "        vertical-align: middle;\n",
       "    }\n",
       "\n",
       "    .dataframe tbody tr th {\n",
       "        vertical-align: top;\n",
       "    }\n",
       "\n",
       "    .dataframe thead th {\n",
       "        text-align: right;\n",
       "    }\n",
       "</style>\n",
       "<table border=\"1\" class=\"dataframe\">\n",
       "  <thead>\n",
       "    <tr style=\"text-align: right;\">\n",
       "      <th></th>\n",
       "      <th>title</th>\n",
       "      <th>rating</th>\n",
       "      <th>description</th>\n",
       "    </tr>\n",
       "  </thead>\n",
       "  <tbody>\n",
       "    <tr>\n",
       "      <th>0</th>\n",
       "      <td>Dick Johnson Is Dead</td>\n",
       "      <td>PG-13</td>\n",
       "      <td>As her father nears the end of his life, filmmaker Kirsten Johnson stages his death in inventive and comical ways to help them both face the inevitable.</td>\n",
       "    </tr>\n",
       "    <tr>\n",
       "      <th>1</th>\n",
       "      <td>Blood &amp; Water</td>\n",
       "      <td>TV-MA</td>\n",
       "      <td>After crossing paths at a party, a Cape Town teen sets out to prove whether a private-school swimming star is her sister who was abducted at birth.</td>\n",
       "    </tr>\n",
       "    <tr>\n",
       "      <th>2</th>\n",
       "      <td>Ganglands</td>\n",
       "      <td>TV-MA</td>\n",
       "      <td>To protect his family from a powerful drug lord, skilled thief Mehdi and his expert team of robbers are pulled into a violent and deadly turf war.</td>\n",
       "    </tr>\n",
       "    <tr>\n",
       "      <th>3</th>\n",
       "      <td>Jailbirds New Orleans</td>\n",
       "      <td>TV-MA</td>\n",
       "      <td>Feuds, flirtations and toilet talk go down among the incarcerated women at the Orleans Justice Center in New Orleans on this gritty reality series.</td>\n",
       "    </tr>\n",
       "    <tr>\n",
       "      <th>4</th>\n",
       "      <td>Kota Factory</td>\n",
       "      <td>TV-MA</td>\n",
       "      <td>In a city of coaching centers known to train India’s finest collegiate minds, an earnest but unexceptional student and his friends navigate campus life.</td>\n",
       "    </tr>\n",
       "    <tr>\n",
       "      <th>...</th>\n",
       "      <td>...</td>\n",
       "      <td>...</td>\n",
       "      <td>...</td>\n",
       "    </tr>\n",
       "    <tr>\n",
       "      <th>8802</th>\n",
       "      <td>Zodiac</td>\n",
       "      <td>R</td>\n",
       "      <td>A political cartoonist, a crime reporter and a pair of cops investigate San Francisco's infamous Zodiac Killer in this thriller based on a true story.</td>\n",
       "    </tr>\n",
       "    <tr>\n",
       "      <th>8803</th>\n",
       "      <td>Zombie Dumb</td>\n",
       "      <td>TV-Y7</td>\n",
       "      <td>While living alone in a spooky town, a young girl befriends a motley crew of zombie children with diverse personalities.</td>\n",
       "    </tr>\n",
       "    <tr>\n",
       "      <th>8804</th>\n",
       "      <td>Zombieland</td>\n",
       "      <td>R</td>\n",
       "      <td>Looking to survive in a world taken over by zombies, a dorky college student teams with an urban roughneck and a pair of grifter sisters.</td>\n",
       "    </tr>\n",
       "    <tr>\n",
       "      <th>8805</th>\n",
       "      <td>Zoom</td>\n",
       "      <td>PG</td>\n",
       "      <td>Dragged from civilian life, a former superhero must train a new crop of youthful saviors when the military preps for an attack by a familiar villain.</td>\n",
       "    </tr>\n",
       "    <tr>\n",
       "      <th>8806</th>\n",
       "      <td>Zubaan</td>\n",
       "      <td>TV-14</td>\n",
       "      <td>A scrappy but poor boy worms his way into a tycoon's dysfunctional family, while facing his fear of music and the truth about his past.</td>\n",
       "    </tr>\n",
       "  </tbody>\n",
       "</table>\n",
       "<p>8807 rows × 3 columns</p>\n",
       "</div>"
      ],
      "text/plain": [
       "                      title rating  \\\n",
       "0      Dick Johnson Is Dead  PG-13   \n",
       "1             Blood & Water  TV-MA   \n",
       "2                 Ganglands  TV-MA   \n",
       "3     Jailbirds New Orleans  TV-MA   \n",
       "4              Kota Factory  TV-MA   \n",
       "...                     ...    ...   \n",
       "8802                 Zodiac      R   \n",
       "8803            Zombie Dumb  TV-Y7   \n",
       "8804             Zombieland      R   \n",
       "8805                   Zoom     PG   \n",
       "8806                 Zubaan  TV-14   \n",
       "\n",
       "                                                                                                                                                   description  \n",
       "0     As her father nears the end of his life, filmmaker Kirsten Johnson stages his death in inventive and comical ways to help them both face the inevitable.  \n",
       "1          After crossing paths at a party, a Cape Town teen sets out to prove whether a private-school swimming star is her sister who was abducted at birth.  \n",
       "2           To protect his family from a powerful drug lord, skilled thief Mehdi and his expert team of robbers are pulled into a violent and deadly turf war.  \n",
       "3          Feuds, flirtations and toilet talk go down among the incarcerated women at the Orleans Justice Center in New Orleans on this gritty reality series.  \n",
       "4     In a city of coaching centers known to train India’s finest collegiate minds, an earnest but unexceptional student and his friends navigate campus life.  \n",
       "...                                                                                                                                                        ...  \n",
       "8802    A political cartoonist, a crime reporter and a pair of cops investigate San Francisco's infamous Zodiac Killer in this thriller based on a true story.  \n",
       "8803                                  While living alone in a spooky town, a young girl befriends a motley crew of zombie children with diverse personalities.  \n",
       "8804                 Looking to survive in a world taken over by zombies, a dorky college student teams with an urban roughneck and a pair of grifter sisters.  \n",
       "8805     Dragged from civilian life, a former superhero must train a new crop of youthful saviors when the military preps for an attack by a familiar villain.  \n",
       "8806                   A scrappy but poor boy worms his way into a tycoon's dysfunctional family, while facing his fear of music and the truth about his past.  \n",
       "\n",
       "[8807 rows x 3 columns]"
      ]
     },
     "metadata": {},
     "output_type": "display_data"
    }
   ],
   "source": [
    "with pd.option_context('display.max_colwidth', None):\n",
    "  display(df_rate_desc)"
   ]
  },
  {
   "cell_type": "code",
   "execution_count": 108,
   "metadata": {},
   "outputs": [
    {
     "data": {
      "text/plain": [
       "8            The Great British Baking Show is rated TV-14\n",
       "18                               Intrusion is rated TV-14\n",
       "20      Monsters Inside: The 24 Faces of Billy Milliga...\n",
       "21                  Resurrection: Ertugrul is rated TV-14\n",
       "24                                   Jeans is rated TV-14\n",
       "                              ...                        \n",
       "8772                 Yamla Pagla Deewana 2 is rated TV-14\n",
       "8774                             يوم الدين is rated TV-14\n",
       "8794                                اشتباك is rated TV-14\n",
       "8799                                 Zenda is rated TV-14\n",
       "8806                                Zubaan is rated TV-14\n",
       "Length: 2160, dtype: object"
      ]
     },
     "execution_count": 108,
     "metadata": {},
     "output_type": "execute_result"
    }
   ],
   "source": [
    "desc_tvma_df = df_rate_desc.loc[df_rate_desc['rating'] == 'TV-MA']\n",
    "\n",
    "desc_tv14_df = df_rate_desc.loc[df_rate_desc['rating'] == 'TV-14']\n",
    "\n",
    "desc_pg_df = df_rate_desc.loc[df_rate_desc['rating'] == 'PG']\n",
    "\n",
    "desc_r_df = df_rate_desc.loc[df_rate_desc['rating'] == 'R']\n",
    "\n",
    "desc_pg13_df = df_rate_desc.loc[df_rate_desc['rating'] == 'PG-13']\n",
    "\n",
    "\n",
    "desc_tv14_df['title'] + \" is rated \" + desc_tv14_df['rating']"
   ]
  },
  {
   "cell_type": "code",
   "execution_count": 109,
   "metadata": {},
   "outputs": [
    {
     "name": "stdout",
     "output_type": "stream",
     "text": [
      "('After realizing their babies were exchanged at birth, two women develop a plan to adjust to their new lives: creating a single —and peculiar— family.', 'TV-MA')\n"
     ]
    }
   ],
   "source": [
    "import random\n",
    "\n",
    "labeled_descs = ([(description, 'PG-13') for description in desc_pg13_df.description] + \n",
    "                 [(description, 'R') for description in desc_r_df.description] + \n",
    "                 [(description, 'PG') for description in desc_pg_df.description] + \n",
    "                 [(description, 'TV-14') for description in desc_tv14_df.description] +\n",
    "                 [(description, 'TV-MA') for description in desc_tvma_df.description])\n",
    "\n",
    "#print(labeled_descs[0])\n",
    "random.shuffle(labeled_descs)\n",
    "print(labeled_descs[0])"
   ]
  },
  {
   "cell_type": "code",
   "execution_count": 110,
   "metadata": {},
   "outputs": [
    {
     "data": {
      "text/plain": [
       "0.43"
      ]
     },
     "execution_count": 110,
     "metadata": {},
     "output_type": "execute_result"
    }
   ],
   "source": [
    "'''\n",
    "def desc_features(desc): #36\n",
    "    mid = len(desc)//2\n",
    "    return {'suffix1': desc[-1:], \n",
    "            'suffix2': desc[-2:],\n",
    "            'prefix': desc[:1],\n",
    "            'middle2': desc[mid:],\n",
    "            'middle1': desc[:mid],\n",
    "            'length': len(desc)\n",
    "           }\n",
    "'''\n",
    "#desc above is 40%\n",
    "\n",
    "\n",
    "#desc below is 44.4%\n",
    "'''\n",
    "def desc_features(desc): #44.6\n",
    "    features = {}\n",
    "    features[\"first_letter\"] = desc[0].lower()\n",
    "    features[\"last_letter\"] = desc[-1].lower()\n",
    "    for letter in 'abcdefghijklmnopqrstuvwxyz':\n",
    "        features[\"count({})\".format(letter)] = desc.lower().count(letter)\n",
    "        features[\"has({})\".format(letter)] = (letter in desc.lower())\n",
    "    return features\n",
    "'''\n",
    "\n",
    "\n",
    "#desc below is 45.2%, increase of 5.2% from base\n",
    "'''\n",
    "def desc_features(desc): #44\n",
    "    features = {}\n",
    "    features[\"first_letter\"] = desc[0].lower()\n",
    "    features[\"last_letter\"] = desc[-1].lower()\n",
    "    features[\"longest_word\"] = max(desc)\n",
    "    for letter in 'abcdefghijklmnopqrstuvwxyz':\n",
    "        features[\"count({})\".format(letter)] = desc.lower().count(letter)\n",
    "        features[\"has({})\".format(letter)] = (letter in desc.lower())\n",
    "    return features\n",
    "'''\n",
    "\n",
    "def desc_features(desc): #44.0\n",
    "    features = {}\n",
    "    features[\"first_letter\"] = desc[0].lower()\n",
    "    features[\"last_letter\"] = desc[-1].lower()\n",
    "    features[\"longest_word\"] = max(desc)\n",
    "    for letter in 'abcdefghijklmnopqrstuvwxyz':\n",
    "        features[\"count({})\".format(letter)] = desc.lower().count(letter)\n",
    "        features[\"has({})\".format(letter)] = (letter in desc.lower())\n",
    "    return features\n",
    "\n",
    "\n",
    "featuresets = [(desc_features(n), description) for (n, description) in labeled_descs]\n",
    "\n",
    "d_train_names, d_test_names, d_devtest_names = labeled_descs[1000:], labeled_descs[:500], labeled_descs[500:1000]\n",
    "\n",
    "\n",
    "d_train_set = [(desc_features(n), description) for (n, description) in d_train_names]\n",
    "\n",
    "d_devtest_set = [(desc_features(n), description) for (n, description) in d_devtest_names]\n",
    "\n",
    "d_test_set = [(desc_features(n), description) for (n, description) in d_test_names]\n",
    "\n",
    "\n",
    "#my_classifier = nltk.NaiveBayesClassifier.train(train_set)\n",
    "d_my_classifier = nltk.NaiveBayesClassifier.train(d_train_set)\n",
    "nltk.classify.accuracy(d_my_classifier, d_devtest_set)\n"
   ]
  },
  {
   "cell_type": "code",
   "execution_count": 111,
   "metadata": {},
   "outputs": [
    {
     "data": {
      "text/plain": [
       "'TV-14'"
      ]
     },
     "execution_count": 111,
     "metadata": {},
     "output_type": "execute_result"
    }
   ],
   "source": [
    "d_my_classifier.classify(desc_features(\n",
    "    \"A young boy is wanted for a crime he has no recollection of committing and must go on the run, hunted by two powerful kings and their forces.\"))"
   ]
  },
  {
   "cell_type": "code",
   "execution_count": 112,
   "metadata": {},
   "outputs": [
    {
     "data": {
      "text/plain": [
       "'TV-14'"
      ]
     },
     "execution_count": 112,
     "metadata": {},
     "output_type": "execute_result"
    }
   ],
   "source": [
    "d_my_classifier.classify(desc_features(\"A soldier grows disillusioned as he's caught between rival sergeants in this semi-autobiographical Vietnam War drama from writer-director Oliver Stone.\"))"
   ]
  },
  {
   "cell_type": "code",
   "execution_count": 113,
   "metadata": {},
   "outputs": [
    {
     "name": "stdout",
     "output_type": "stream",
     "text": [
      "Most Informative Features\n",
      "                count(l) = 14                 PG : TV-MA  =     18.3 : 1.0\n",
      "                count(j) = 3                  PG : TV-MA  =     11.2 : 1.0\n",
      "                count(p) = 9                  PG : TV-MA  =     11.1 : 1.0\n",
      "                count(g) = 10                 PG : TV-MA  =     11.1 : 1.0\n",
      "                count(d) = 12                 PG : TV-MA  =     11.1 : 1.0\n",
      "            first_letter = 'z'                PG : TV-MA  =     10.8 : 1.0\n",
      "            longest_word = 'á'             TV-MA : TV-14  =     10.7 : 1.0\n",
      "            first_letter = 'u'                PG : R      =      8.2 : 1.0\n",
      "                count(z) = 3                  PG : TV-14  =      7.6 : 1.0\n",
      "                count(u) = 9                  PG : TV-14  =      7.5 : 1.0\n",
      "                count(h) = 14                 PG : TV-MA  =      6.6 : 1.0\n",
      "                count(t) = 1                   R : TV-MA  =      6.6 : 1.0\n",
      "                count(s) = 18                 PG : TV-MA  =      6.5 : 1.0\n",
      "                count(t) = 2                  PG : TV-MA  =      6.5 : 1.0\n",
      "                count(w) = 8               PG-13 : TV-MA  =      6.5 : 1.0\n",
      "                count(e) = 4                  PG : TV-MA  =      6.5 : 1.0\n",
      "                count(o) = 17              PG-13 : TV-MA  =      6.5 : 1.0\n",
      "                count(o) = 1               PG-13 : TV-MA  =      6.5 : 1.0\n",
      "                count(n) = 18              PG-13 : TV-MA  =      6.4 : 1.0\n",
      "                count(e) = 5               PG-13 : TV-MA  =      6.4 : 1.0\n",
      "                count(n) = 17                  R : TV-14  =      6.3 : 1.0\n",
      "             last_letter = '?'                PG : TV-MA  =      5.9 : 1.0\n",
      "            longest_word = 'x'             PG-13 : PG     =      5.4 : 1.0\n",
      "                count(l) = 12                  R : TV-MA  =      5.1 : 1.0\n",
      "                count(a) = 3                  PG : TV-MA  =      5.1 : 1.0\n",
      "                count(a) = 5               TV-14 : PG     =      5.0 : 1.0\n",
      "                count(f) = 9                  PG : TV-MA  =      4.8 : 1.0\n",
      "                count(h) = 13                 PG : TV-MA  =      4.7 : 1.0\n",
      "                count(e) = 24              PG-13 : TV-MA  =      4.6 : 1.0\n",
      "                count(g) = 9                  PG : TV-14  =      4.5 : 1.0\n",
      "                count(i) = 17                 PG : TV-14  =      4.4 : 1.0\n",
      "                count(l) = 13              PG-13 : TV-14  =      4.4 : 1.0\n",
      "                count(a) = 2               PG-13 : TV-14  =      4.4 : 1.0\n",
      "            first_letter = 'e'                PG : PG-13  =      4.4 : 1.0\n",
      "                count(v) = 5               PG-13 : R      =      4.3 : 1.0\n",
      "                count(p) = 8                  PG : TV-14  =      4.2 : 1.0\n",
      "            first_letter = 'f'             TV-MA : PG-13  =      4.1 : 1.0\n",
      "                count(m) = 9                   R : TV-MA  =      4.0 : 1.0\n",
      "                count(h) = 2                   R : PG     =      4.0 : 1.0\n",
      "                count(o) = 19                  R : TV-MA  =      4.0 : 1.0\n",
      "            first_letter = 'g'                PG : PG-13  =      3.9 : 1.0\n",
      "                count(y) = 8               PG-13 : TV-MA  =      3.9 : 1.0\n",
      "                count(w) = 7               PG-13 : TV-MA  =      3.9 : 1.0\n",
      "                count(c) = 9                  PG : R      =      3.9 : 1.0\n",
      "                count(o) = 18              PG-13 : TV-MA  =      3.9 : 1.0\n",
      "                count(t) = 20              PG-13 : TV-MA  =      3.9 : 1.0\n",
      "            longest_word = '”'             TV-14 : R      =      3.9 : 1.0\n",
      "                count(a) = 20              PG-13 : TV-MA  =      3.9 : 1.0\n",
      "                count(e) = 22              PG-13 : R      =      3.8 : 1.0\n",
      "            first_letter = 'm'             TV-14 : R      =      3.8 : 1.0\n",
      "                count(h) = 11              PG-13 : TV-MA  =      3.5 : 1.0\n",
      "                count(n) = 14              TV-MA : R      =      3.5 : 1.0\n",
      "                count(c) = 10                  R : TV-14  =      3.5 : 1.0\n",
      "                count(r) = 1               TV-14 : TV-MA  =      3.4 : 1.0\n",
      "                count(s) = 2               PG-13 : TV-MA  =      3.4 : 1.0\n",
      "                count(c) = 11              TV-MA : TV-14  =      3.4 : 1.0\n",
      "            first_letter = 'p'             PG-13 : PG     =      3.4 : 1.0\n",
      "                count(a) = 18                  R : TV-MA  =      3.3 : 1.0\n",
      "            longest_word = '’'             TV-14 : R      =      3.2 : 1.0\n",
      "                count(b) = 7               PG-13 : TV-14  =      3.2 : 1.0\n",
      "                count(s) = 3                  PG : PG-13  =      3.1 : 1.0\n",
      "            first_letter = '\"'             TV-MA : TV-14  =      3.1 : 1.0\n",
      "            first_letter = 'h'                 R : PG-13  =      3.1 : 1.0\n",
      "             last_letter = '\"'                 R : PG-13  =      3.0 : 1.0\n",
      "            first_letter = 'j'                PG : PG-13  =      3.0 : 1.0\n",
      "                count(l) = 11              PG-13 : TV-14  =      3.0 : 1.0\n",
      "                count(t) = 14                 PG : PG-13  =      3.0 : 1.0\n",
      "                count(o) = 16                 PG : TV-MA  =      3.0 : 1.0\n",
      "                count(e) = 21              PG-13 : PG     =      3.0 : 1.0\n",
      "                count(y) = 6               PG-13 : R      =      3.0 : 1.0\n",
      "                count(x) = 2               TV-MA : PG     =      2.9 : 1.0\n",
      "            first_letter = 'v'                PG : TV-MA  =      2.9 : 1.0\n",
      "                count(e) = 6               PG-13 : R      =      2.9 : 1.0\n",
      "                count(c) = 7               TV-MA : PG     =      2.9 : 1.0\n",
      "                count(t) = 15                 PG : TV-MA  =      2.9 : 1.0\n",
      "                count(n) = 15              TV-MA : R      =      2.9 : 1.0\n",
      "                count(f) = 8                  PG : PG-13  =      2.8 : 1.0\n",
      "                count(r) = 2                  PG : PG-13  =      2.8 : 1.0\n",
      "                count(l) = 9               PG-13 : PG     =      2.8 : 1.0\n",
      "                count(k) = 6               PG-13 : TV-MA  =      2.8 : 1.0\n",
      "                count(o) = 14                  R : PG     =      2.8 : 1.0\n",
      "                count(t) = 19              PG-13 : TV-MA  =      2.8 : 1.0\n",
      "                count(a) = 4                  PG : R      =      2.7 : 1.0\n",
      "                count(i) = 18                  R : TV-MA  =      2.7 : 1.0\n",
      "                count(v) = 6               PG-13 : R      =      2.7 : 1.0\n",
      "                count(q) = 2                   R : TV-14  =      2.7 : 1.0\n",
      "                count(g) = 8                   R : TV-14  =      2.7 : 1.0\n",
      "                count(r) = 16                  R : TV-14  =      2.7 : 1.0\n",
      "                count(s) = 1                   R : TV-14  =      2.7 : 1.0\n",
      "                count(r) = 15                  R : PG-13  =      2.7 : 1.0\n",
      "            longest_word = 'ï'             TV-14 : TV-MA  =      2.6 : 1.0\n",
      "            longest_word = 'í'             TV-MA : TV-14  =      2.6 : 1.0\n",
      "                count(f) = 6               TV-14 : PG-13  =      2.6 : 1.0\n",
      "                  has(l) = False           PG-13 : TV-MA  =      2.5 : 1.0\n",
      "            longest_word = 'é'             TV-MA : R      =      2.5 : 1.0\n",
      "            longest_word = 'ã'             TV-MA : TV-14  =      2.5 : 1.0\n",
      "                count(l) = 0               PG-13 : TV-MA  =      2.5 : 1.0\n",
      "                count(i) = 2               PG-13 : TV-MA  =      2.5 : 1.0\n",
      "                count(f) = 10              TV-14 : TV-MA  =      2.5 : 1.0\n",
      "                count(u) = 10              TV-14 : TV-MA  =      2.5 : 1.0\n"
     ]
    }
   ],
   "source": [
    "d_my_classifier.show_most_informative_features(100)"
   ]
  },
  {
   "cell_type": "markdown",
   "metadata": {},
   "source": [
    "## visualization"
   ]
  },
  {
   "cell_type": "code",
   "execution_count": 114,
   "metadata": {},
   "outputs": [],
   "source": [
    "# visualization\n",
    "import matplotlib.pyplot as plt\n",
    "import seaborn as sns"
   ]
  },
  {
   "cell_type": "code",
   "execution_count": 115,
   "metadata": {},
   "outputs": [
    {
     "data": {
      "text/plain": [
       "[Text(0, 0, 'PG-13'),\n",
       " Text(1, 0, 'TV-MA'),\n",
       " Text(2, 0, 'PG'),\n",
       " Text(3, 0, 'TV-14'),\n",
       " Text(4, 0, 'TV-PG'),\n",
       " Text(5, 0, 'TV-Y'),\n",
       " Text(6, 0, 'TV-Y7'),\n",
       " Text(7, 0, 'R'),\n",
       " Text(8, 0, 'TV-G'),\n",
       " Text(9, 0, 'G'),\n",
       " Text(10, 0, 'NC-17'),\n",
       " Text(11, 0, '74 min'),\n",
       " Text(12, 0, '84 min'),\n",
       " Text(13, 0, '66 min'),\n",
       " Text(14, 0, 'NR'),\n",
       " Text(15, 0, 'TV-Y7-FV'),\n",
       " Text(16, 0, 'UR')]"
      ]
     },
     "execution_count": 115,
     "metadata": {},
     "output_type": "execute_result"
    },
    {
     "data": {
      "image/png": "[encoded data removed]",
      "text/plain": [
       "<Figure size 432x288 with 1 Axes>"
      ]
     },
     "metadata": {
      "needs_background": "light"
     },
     "output_type": "display_data"
    }
   ],
   "source": [
    "ax = sns.countplot(x = df_combine_rating_des[\"rating\"])\n",
    "ax.set_xticklabels(ax.get_xticklabels(), rotation=90)"
   ]
  },
  {
   "cell_type": "code",
   "execution_count": 123,
   "metadata": {},
   "outputs": [
    {
     "data": {
      "text/plain": [
       "title          0\n",
       "rating         0\n",
       "description    0\n",
       "dtype: int64"
      ]
     },
     "execution_count": 123,
     "metadata": {},
     "output_type": "execute_result"
    }
   ],
   "source": [
    "df_rate_desc = df_rate_desc.dropna(subset=['rating'])\n",
    "df_rate_desc.isnull().sum()"
   ]
  },
  {
   "cell_type": "code",
   "execution_count": 117,
   "metadata": {},
   "outputs": [
    {
     "data": {
      "text/plain": [
       "[Text(0, 0, 'PG-13'),\n",
       " Text(1, 0, 'TV-MA'),\n",
       " Text(2, 0, 'PG'),\n",
       " Text(3, 0, 'TV-14'),\n",
       " Text(4, 0, 'TV-PG'),\n",
       " Text(5, 0, 'TV-Y'),\n",
       " Text(6, 0, 'TV-Y7'),\n",
       " Text(7, 0, 'R'),\n",
       " Text(8, 0, 'TV-G'),\n",
       " Text(9, 0, 'G'),\n",
       " Text(10, 0, 'NC-17'),\n",
       " Text(11, 0, '74 min'),\n",
       " Text(12, 0, '84 min'),\n",
       " Text(13, 0, '66 min'),\n",
       " Text(14, 0, 'NR'),\n",
       " Text(15, 0, 'TV-Y7-FV'),\n",
       " Text(16, 0, 'UR')]"
      ]
     },
     "execution_count": 117,
     "metadata": {},
     "output_type": "execute_result"
    },
    {
     "data": {
      "image/png": "[encoded data removed]",
      "text/plain": [
       "<Figure size 432x288 with 1 Axes>"
      ]
     },
     "metadata": {
      "needs_background": "light"
     },
     "output_type": "display_data"
    }
   ],
   "source": [
    "ax = sns.countplot(x = df_combine_rating_des[\"rating\"])\n",
    "ax.set_xticklabels(ax.get_xticklabels(), rotation=90)"
   ]
  },
  {
   "cell_type": "markdown",
   "metadata": {},
   "source": [
    "## MultinomialNB"
   ]
  },
  {
   "cell_type": "code",
   "execution_count": 118,
   "metadata": {},
   "outputs": [],
   "source": [
    "my_y = df_rate_desc.rating\n",
    "\n",
    "my_X1 = df_rate_desc.description"
   ]
  },
  {
   "cell_type": "code",
   "execution_count": 119,
   "metadata": {},
   "outputs": [
    {
     "data": {
      "text/plain": [
       "130072"
      ]
     },
     "execution_count": 119,
     "metadata": {},
     "output_type": "execute_result"
    }
   ],
   "source": [
    "from sklearn.feature_extraction.text import TfidfTransformer\n",
    "from sklearn.feature_extraction.text import CountVectorizer\n",
    "\n",
    "count_vectorizer = CountVectorizer()\n",
    "\n",
    "my_transformer = TfidfTransformer(smooth_idf=False)\n",
    "my_count_vectorizer = CountVectorizer(ngram_range=(1, 2))\n",
    "my_ngrams = my_count_vectorizer.fit_transform(my_X1)\n",
    "\n",
    "my_ngrams_tfidf = my_transformer.fit_transform(my_ngrams)\n",
    "\n",
    "my_feature_names = my_count_vectorizer.get_feature_names_out()\n",
    "len(my_feature_names) #more features because of bigrams"
   ]
  },
  {
   "cell_type": "code",
   "execution_count": 120,
   "metadata": {},
   "outputs": [],
   "source": [
    "#split into test/train\n",
    "from sklearn.model_selection import train_test_split\n",
    "\n",
    "X_train, X_test, y_train, y_test = train_test_split(my_ngrams_tfidf, my_y, test_size = 0.2, random_state=0)"
   ]
  },
  {
   "cell_type": "code",
   "execution_count": 121,
   "metadata": {},
   "outputs": [
    {
     "name": "stdout",
     "output_type": "stream",
     "text": [
      "Accuracy of NB  classifier on training set: 0.52\n",
      "Accuracy of NB classifier on test set: 0.38\n"
     ]
    }
   ],
   "source": [
    "from sklearn.naive_bayes import MultinomialNB\n",
    "\n",
    "clf_nb = MultinomialNB()\n",
    "clf_nb.fit(X_train, y_train)\n",
    "\n",
    "print('Accuracy of NB  classifier on training set: {:.2f}'.format(clf_nb.score(X_train, y_train)))\n",
    "print('Accuracy of NB classifier on test set: {:.2f}'.format(clf_nb.score(X_test, y_test)))"
   ]
  },
  {
   "cell_type": "code",
   "execution_count": null,
   "metadata": {},
   "outputs": [],
   "source": []
  }
 ],
 "metadata": {
  "kernelspec": {
   "display_name": "Python 3",
   "language": "python",
   "name": "python3"
  },
  "language_info": {
   "codemirror_mode": {
    "name": "ipython",
    "version": 3
   },
   "file_extension": ".py",
   "mimetype": "text/x-python",
   "name": "python",
   "nbconvert_exporter": "python",
   "pygments_lexer": "ipython3",
   "version": "3.8.5"
  }
 },
 "nbformat": 4,
 "nbformat_minor": 4
}
